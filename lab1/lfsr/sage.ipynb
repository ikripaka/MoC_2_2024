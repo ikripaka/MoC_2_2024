{
 "cells": [
  {
   "cell_type": "code",
   "execution_count": 1,
   "metadata": {
    "pycharm": {
     "name": "#%%\n"
    }
   },
   "outputs": [
    {
     "name": "stdout",
     "output_type": "stream",
     "text": [
      "Defining x0, x1, x2, x3, x4, x5, x6, x7, x8, x9, x10, x11, x12, x13, x14, x15, x16, x17, x18, x19, x20, x21, x22, x23, x24, x25, x26, x27, x28, x29, x30, x31, x32, x33, x34, x35, x36, x37, x38, x39, x40, x41, x42, x43, x44, x45, x46, x47, x48, x49, x50, x51, x52, x53, x54, x55, x56, x57, x58, x59, x60, x61, x62, x63\n"
     ]
    }
   ],
   "source": [
    "B = BooleanPolynomialRing (64 , 'x', order ='degrevlex')\n",
    "B. inject_variables ()"
   ]
  },
  {
   "cell_type": "code",
   "execution_count": 2,
   "metadata": {
    "pycharm": {
     "name": "#%%\n"
    }
   },
   "outputs": [],
   "source": [
    "f = x0 * x1 * x3 * x5 * x6 * x20 * x23 * x25 * x26 * x29 * x37 * x38 * x39 * x41 * x46 * x48 * x49 * x52 * x53 * x56 * x57 + x0 * x1 * x3 * x6 * x20 * x23 * x25 * x26 * x29 * x37 * x38 * x39 * x41 * x46 * x47 * x48 * x49 * x52 * x53 * x57 + x0 * x1 * x3 * x6 * x20 * x23 * x25 * x26 * x29 * x37 * x39 * x41 * x46 * x47 * x48 * x49 * x52 * x53 * x57 + x0 * x1 * x3 * x6 * x20 * x23 * x25 * x26 * x29 * x31 * x39 * x41 * x46 * x48 * x49 * x52 * x53 * x57 + x0 * x1 * x3 * x6 * x20 * x23 * x25 * x26 * x29 * x31 * x39 * x41 * x46 * x48 * x49 * x52 * x53 + x0 * x1 * x3 * x6 * x14 * x20 * x23 * x25 * x29 * x39 * x41 * x46 * x48 * x49 * x52 * x53 + x0 * x1 * x3 * x6 * x20 * x23 * x25 * x26 * x29 * x39 * x41 * x46 * x48 * x49 * x52 * x53 + x0 * x1 * x3 * x6 * x14 * x20 * x23 * x25 * x29 * x39 * x41 * x48 * x49 * x52 * x53 + x0 * x1 * x3 * x6 * x20 * x23 * x25 * x29 * x34 * x39 * x41 * x48 * x49 * x52 * x53 + x0 * x1 * x3 * x6 * x20 * x23 * x25 * x29 * x39 * x41 * x46 * x48 * x49 * x52 * x53 + x0 * x1 * x3 * x6 * x20 * x23 * x25 * x29 * x34 * x39 * x41 * x49 * x52 * x53 + x0 * x1 * x3 * x6 * x20 * x23 * x25 * x29 * x39 * x41 * x48 * x49 * x52 * x53 + x0 * x1 * x3 * x6 * x20 * x23 * x25 * x29 * x39 * x41 * x49 * x52 * x53 * x58 + x0 * x1 * x3 * x6 * x20 * x23 * x25 * x29 * x39 * x41 * x49 * x52 * x53 + x0 * x1 * x3 * x6 * x23 * x25 * x29 * x39 * x41 * x42 * x49 * x52 * x53 + x0 * x1 * x3 * x6 * x23 * x25 * x29 * x39 * x41 * x49 * x52 * x53 * x58 + x0 * x3 * x6 * x23 * x25 * x29 * x39 * x41 * x42 * x49 * x52 * x53 + x0 * x3 * x6 * x23 * x25 * x29 * x39 * x41 * x49 * x52 * x53 * x62 + x0 * x3 * x6 * x11 * x23 * x25 * x29 * x39 * x49 * x52 * x53 + x0 * x3 * x6 * x23 * x25 * x29 * x39 * x41 * x49 * x52 * x53 + x0 * x3 * x6 * x23 * x25 * x29 * x39 * x49 * x52 * x53 * x62 + x0 * x3 * x6 * x11 * x23 * x25 * x29 * x39 * x49 * x52 + x0 * x3 * x6 * x23 * x25 * x29 * x39 * x49 * x52 * x53 + x0 * x3 * x6 * x22 * x23 * x25 * x29 * x39 * x52 + x0 * x3 * x6 * x23 * x25 * x29 * x39 * x49 * x52 + x0 * x3 * x6 * x23 * x25 * x29 * x39 * x52 + x0 * x6 * x21 * x23 * x25 * x29 * x39 * x52 + x0 * x6 * x22 * x23 * x25 * x29 * x39 * x52 + x0 * x21 * x23 * x25 * x29 * x39 * x52 + x0 * x23 * x25 * x29 * x32 * x39 * x52 + x0 * x23 * x25 * x29 * x39 * x52 + x0 * x25 * x29 * x32 * x39 * x52 + x0 * x25 * x29 * x39 * x52 * x62 + x0 * x29 * x39 * x48 * x52 + x0 * x29 * x39 * x52 * x62 + x0 * x29 * x39 * x52 + x0 * x39 * x46 * x52 + x0 * x39 * x48 * x52 + x0 * x5 * x52 + x0 * x39 * x52 + x0 * x46 * x52 + x0 * x5 + x0 * x52 + x0 * x53 + x53 + 1\n",
    "notF = f + 1"
   ]
  },
  {
   "cell_type": "code",
   "execution_count": 3,
   "metadata": {},
   "outputs": [
    {
     "name": "stdout",
     "output_type": "stream",
     "text": [
      "Polynomial Sequence with 2239 Polynomials in 32 Variables\n",
      "Polynomial Sequence with 2239 Polynomials in 32 Variables\n"
     ]
    }
   ],
   "source": [
    "fIdeal = ideal(f)\n",
    "notFIdeal = ideal(notF)\n",
    "fGB = fIdeal.groebner_basis()\n",
    "notFGB = notFIdeal.groebner_basis()\n",
    "print(fGB)\n",
    "print(notFGB)"
   ]
  },
  {
   "cell_type": "code",
   "execution_count": 4,
   "metadata": {},
   "outputs": [
    {
     "name": "stdout",
     "output_type": "stream",
     "text": [
      "2\n",
      "2\n",
      "x53*x0 + x0 + x53 + 1\n",
      "x53*x0 + x53\n"
     ]
    }
   ],
   "source": [
    "fGBMinDeg = min(f.degree() for f in fGB)\n",
    "notFGBMinDeg = min(f.degree() for f in notFGB)\n",
    "\n",
    "print(fGBMinDeg)\n",
    "print(notFGBMinDeg)\n",
    "\n",
    "def min_degree_polynomial(basis):\n",
    "    if not basis:\n",
    "        return None\n",
    "    \n",
    "    min_degree = basis[0].degree()\n",
    "    min_poly = basis[0]\n",
    "    \n",
    "    for poly in basis[1:]:\n",
    "        degree = poly.degree()\n",
    "        if degree < min_degree:\n",
    "            min_degree = degree\n",
    "            min_poly = poly\n",
    "    \n",
    "    return min_poly\n",
    "\n",
    "\n",
    "        \n",
    "hP = min_degree_polynomial(fGB)\n",
    "hN = min_degree_polynomial(notFGB)\n",
    "\n",
    "print(hP)\n",
    "print(hN)"
   ]
  },
  {
   "cell_type": "code",
   "execution_count": null,
   "metadata": {},
   "outputs": [],
   "source": [
    "p = B['x']( 'x^64 + x^63 + x^62 + x^60 + x^59 + x^58 + x^57 + x^56 + x^53 + x^50 + x^47 + x^45 + x^44 + x^43+ x^42 + x^41 + x^40 + x^39 + x^38 + x^37 + x^36 + x^34 + x^32 + x^30 + x^28 + x^24 + x^18+ x^15 + x^14 + x^13 + x^11 + x^9 + x^6 + x^4 + 1')\n",
    "C = companion_matrix(p, format ='bottom')\n",
    "curr_state = vector (B, (x0, x1, x2, x3, x4, x5, x6, x7, x8, x9, x10, x11, x12, x13, x14, x15, x16, x17, x18, x19, x20, x21, x22, x23, x24, x25, x26, x27, x28, x29, x30, x31, x32, x33, x34, x35, x36, x37, x38, x39, x40, x41, x42, x43, x44, x45, x46, x47, x48, x49, x50, x51, x52, x53, x54, x55, x56, x57, x58, x59, x60, x61, x62, x63))\n",
    "\n",
    "\n",
    "from sage.rings.polynomial.pbori.pbori import substitute_variables\n",
    "\n",
    "system = []\n",
    "gamma = [1,0,1,0,0,0,1,0,1,1,0,1,0,0,0,0,0,1,0,0,1,1,1,1,0,0,1,0,1,0,0,0,1,0,1,0,0,1,1,1,1,0,0,1,0,1,0,0,1,1,0,0,0,0,1,0,1,0,0,1,0,1,0,1,0,1,1,0,0,1,0,1,1,1,0,1,1,1,1,1,0,0,1,0,0,0,1,1,0,0,1,1,1,1,1,1,1,1,1,0,0,0,1,0,1,1,1,0,0,0,1,0,0,0,0,0,1,1,0,0,0,1,1,1,0,0,0,0,1,0,0,0,1,0,0,0,0,0,0,0,0,0,0,0,0,0,0,0,1,1,1,0,1,1,1,0,0,1,1,1,0,1,0,0,0,1,1,0,1,0,1,1,0,0,0,0,1,1,0,0,1,0,1,0,0,1,0,0,0,1,0,1,1,0,0,0,1,1,1,0,0,1,1,0,1,0,1,1,1,0,0,1,0,1,1,1,1,0,0,1,1,1,0,1,1,0,1,1,1,0,1,0,1,1,1,0,1,1,0,1,1,0,0,1,0,1,1,0,1,0,1,0,0,1,1,1,0,0,1,1,0,1,1,1,0,0,0,1,1,1,1,0,1,1,1,0,1,0,1,1,1,1,1,1,1,0,1,0,1,1,0,1,0,1,0,0,1,0,0,0,0,0,1,0,0,0,1,1,1,0,1,1,0,1,1,1,0,0,0,1,1,1,1,0,1,1,0,1,1,0,1,1,0,1,1,0,1,0,0,1,0,1,0,0,1,0,0,0,0,1,0,0,1,0,0,1,1,1,0,1,0,0,1,1,1,0,1,0,0,0,1,0,0,1,0,0,0,0,0,0,1,1,1,0,1,0,1,1,0,1,0,0,1,1,1,0,0,0,1,1,1,0,0,0,1,0,1,0,0,1,1,0,1,1,1,0,0,0,0,0,1,1,1,0,1,0,0,1,1,0,0,0,1,1,0,1,1,1,1,0,0,1,1,1,0,1,1,0,1,1,1,1,1,1,1,0,0,0,0,1,1,0,0,1,0,1,0,0,0,1,1,0,1,0,1,0,0,1,0,1,0,0,0,1,1,1,0,1,0,0,1,0,0,1,0,1,1,0,1,1,0,0,1,0,0,0,0,0,1,1,1,0,0,1,1,0,1,1,1,0,0,1,1,1,0,0,0,1,0,0,1,1,1,0,0,1,0,1,1,0,1,1,1,0,0,1,1,1,0,0,0,0,0,0,0,0,1,0,0,0,0,1,1,0,0,1,1,0,0,1,0,1,0,0,0,1,0,0,0,1,0,0,1,1,0,1,1,0,0,0,1,0,1,1,1,0,1,1,0,0,1,1,0,0,1,1,0,0,0,0,0,1,1,1,1,0,1,1,0,1,0,0,1,1,1,0,0,1,1,1,1,0,0,0,1,1,1,0,0,0,0,1,0,1,0,1,0,1,1,0,1,1,0,1,0,1,1,0,1,1,0,0,1,0,0,1,0,0,0,1,1,0,0,0,1,1,1,0,0,1,1,0,0,0,1,0,1,0,1,0,1,0,0,0,1,0,0,1,1,1,1,1,1,1,1,1,0,0,1,0,1,0,0,1,1,0,1,1,1,0,0,0,0,0,1,1,1,0,1,0,1,1,1,0,1,0,1,1,0,0,1,1,1,1,0,1,1,1,1,1,1,1,1,1,0,0,0,1,0,0,0,1,1,1,1,0,0,0,1,1,0,1,0,0,1,0,1,0,0,1,1,0,0,1,0,1,1,0,0,0,1,0,0,1,0,1,1,1,1,1,1,1,0,1,1,0,0,0,1,1,1,1,0,1,1,0,1,0,0,1,1,0,1,1,0,0,1,0,1,0,0,1,1,1,1,1,0,0,0,1,1,0,0,0,0,1,1,1,0,1,1,0,1,0,1,0,1,1,1,0,0,1,1,0,1,0,0,1,1,0,1,0,1,1,0,0,0,1,1,0,0,0,1,0,1,0,1,0,0,1,0,0,1,1,1,0,1,0,0,1,1,0,1,0,1,0,0,1,0,1,1,0,0,0,1,1,0,0,1,0,0,0,0,0,1,0,1,0,1,0,0,1,1,0,1,0,0,1,0,0,1,1,1,1,1,1,0,1,1,1,1,0,0,1,0,1,1,1,1,1,1,0,0,1,1,0,1,0,0,0,0,1,1,1,1,0,1,1,0,1,1,0,0,1,0,0,0,0,0,0,0,1,0,1,0,1,1,1,0,0]\n",
    "gamma = gamma[:12]\n",
    "\n",
    "for i in gamma:\n",
    "    curr_state = C * curr_state\n",
    "    \n",
    "    if i == 0: \n",
    "        system.append(substitute_variables(B, curr_state, hP))\n",
    "    \n",
    "        \n",
    "    if i == 1: \n",
    "        system.append(substitute_variables(B, curr_state, hN))\n",
    "    \n",
    "print(\"calc\")\n",
    "print(len(system))\n",
    "    \n",
    "I_FINAL = ideal(system)\n",
    "J = I_FINAL + sage.rings.ideal.FieldIdeal(B)\n",
    "for f in J.groebner_basis():\n",
    "  print(f)"
   ]
  },
  {
   "cell_type": "code",
   "execution_count": null,
   "metadata": {},
   "outputs": [],
   "source": []
  }
 ],
 "metadata": {
  "kernelspec": {
   "display_name": "SageMath 10.2",
   "language": "sage",
   "name": "sagemath"
  },
  "language_info": {
   "codemirror_mode": {
    "name": "ipython",
    "version": 3
   },
   "file_extension": ".py",
   "mimetype": "text/x-python",
   "name": "python",
   "nbconvert_exporter": "python",
   "pygments_lexer": "ipython3",
   "version": "3.11.1"
  }
 },
 "nbformat": 4,
 "nbformat_minor": 1
}
